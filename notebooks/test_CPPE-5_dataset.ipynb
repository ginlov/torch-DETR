{
 "cells": [
  {
   "cell_type": "code",
   "execution_count": 1,
   "id": "bf9bb1a6",
   "metadata": {},
   "outputs": [],
   "source": [
    "import sys, os; \n",
    "sys.path.append(os.path.dirname(os.getcwd()))"
   ]
  },
  {
   "cell_type": "code",
   "execution_count": 2,
   "id": "60587e3d",
   "metadata": {},
   "outputs": [],
   "source": [
    "from src.detr.detr import build_detr\n",
    "from src.data.dataset import CPPE5Dataset, collate_fn\n",
    "from src.losses.loss import DETRLoss\n",
    "from src.data.utils import visualize_output\n",
    "from experiment.detr_config import DETRCPPEConfigSanityCheck\n",
    "from experiment.detr_cppe5_experiment import DETRCPPE5Experiment\n",
    "from runner.detr_runner import DETRRunner\n",
    "\n",
    "from torch.utils.data import DataLoader\n",
    "\n",
    "import torch\n",
    "import numpy as np\n",
    "import random"
   ]
  },
  {
   "cell_type": "code",
   "execution_count": 3,
   "id": "83973f5f",
   "metadata": {},
   "outputs": [],
   "source": [
    "import src.data.transforms as T"
   ]
  },
  {
   "cell_type": "code",
   "execution_count": 4,
   "id": "23419e03",
   "metadata": {},
   "outputs": [],
   "source": [
    "exp = DETRCPPE5Experiment()\n",
    "device = torch.device('cuda' if torch.cuda.is_available() else 'cpu')"
   ]
  },
  {
   "cell_type": "code",
   "execution_count": 5,
   "id": "b3cda307",
   "metadata": {},
   "outputs": [],
   "source": [
    "!source ../.env"
   ]
  },
  {
   "cell_type": "code",
   "execution_count": 6,
   "id": "9a124c71",
   "metadata": {},
   "outputs": [],
   "source": [
    "torch.manual_seed(exp.random_seed)\n",
    "np.random.seed(exp.random_seed)\n",
    "random.seed(exp.random_seed)\n",
    "if torch.cuda.is_available():\n",
    "    torch.cuda.manual_seed_all(exp.random_seed)\n",
    "torch.backends.cudnn.deterministic = True\n",
    "torch.backends.cudnn.benchmark = False"
   ]
  },
  {
   "cell_type": "code",
   "execution_count": 7,
   "id": "4a75f117",
   "metadata": {},
   "outputs": [],
   "source": [
    "loss_fn = DETRLoss()\n",
    "dataset = CPPE5Dataset('../assets/CPPE-5', partition='val')\n",
    "data_loader = DataLoader(\n",
    "    dataset,\n",
    "    batch_size=2,\n",
    "    shuffle=False,\n",
    "    num_workers=2,\n",
    "    collate_fn=collate_fn\n",
    ")"
   ]
  },
  {
   "cell_type": "code",
   "execution_count": 10,
   "id": "bc68d58e",
   "metadata": {},
   "outputs": [
    {
     "data": {
      "text/plain": [
       "6"
      ]
     },
     "execution_count": 10,
     "metadata": {},
     "output_type": "execute_result"
    }
   ],
   "source": [
    "len(dataset.boxes[0])"
   ]
  },
  {
   "cell_type": "code",
   "execution_count": 9,
   "id": "f6ca9bd2",
   "metadata": {},
   "outputs": [
    {
     "data": {
      "text/plain": [
       "6"
      ]
     },
     "execution_count": 9,
     "metadata": {},
     "output_type": "execute_result"
    }
   ],
   "source": [
    "example_boxes = [item for item in dataset.annotation if item['image_id'] == 1001]\n",
    "len(example_boxes)"
   ]
  },
  {
   "cell_type": "code",
   "execution_count": 11,
   "id": "4accd217",
   "metadata": {},
   "outputs": [
    {
     "data": {
      "text/plain": [
       "[[160, 57, 117, 104],\n",
       " [565, 339, 67, 56],\n",
       " [62, 421, 49, 77],\n",
       " [336, 437, 113, 62],\n",
       " [111, 0, 248, 189],\n",
       " [0, 3, 544, 492]]"
      ]
     },
     "execution_count": 11,
     "metadata": {},
     "output_type": "execute_result"
    }
   ],
   "source": [
    "dataset.boxes[0]"
   ]
  },
  {
   "cell_type": "code",
   "execution_count": null,
   "id": "6834b80e",
   "metadata": {},
   "outputs": [],
   "source": []
  }
 ],
 "metadata": {
  "kernelspec": {
   "display_name": "cvrunner",
   "language": "python",
   "name": "python3"
  },
  "language_info": {
   "codemirror_mode": {
    "name": "ipython",
    "version": 3
   },
   "file_extension": ".py",
   "mimetype": "text/x-python",
   "name": "python",
   "nbconvert_exporter": "python",
   "pygments_lexer": "ipython3",
   "version": "3.10.18"
  }
 },
 "nbformat": 4,
 "nbformat_minor": 5
}
