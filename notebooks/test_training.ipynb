{
 "cells": [
  {
   "cell_type": "markdown",
   "id": "ef5e6c0f",
   "metadata": {},
   "source": [
    "## Set up experiment"
   ]
  },
  {
   "cell_type": "code",
   "execution_count": 1,
   "id": "ac47ea22",
   "metadata": {},
   "outputs": [],
   "source": [
    "import sys, os; \n",
    "sys.path.append(os.path.dirname(os.getcwd()))"
   ]
  },
  {
   "cell_type": "code",
   "execution_count": 2,
   "id": "8a252b84",
   "metadata": {},
   "outputs": [],
   "source": [
    "from src.detr.detr import build_detr\n",
    "from src.data.dataset import CPPE5Dataset, collate_fn\n",
    "from src.losses.loss import DETRLoss\n",
    "from src.utils import pad_targets\n",
    "from experiment.detr_config import DETRCPPEConfigSanityCheck\n",
    "from experiment.detr_cppe5_experiment import DETRCPPE5Experiment\n",
    "from runner.detr_runner import DETRRunner\n",
    "\n",
    "from torch.utils.data import DataLoader\n",
    "\n",
    "import torch\n",
    "import numpy as np\n",
    "import random"
   ]
  },
  {
   "cell_type": "code",
   "execution_count": 3,
   "id": "4d5d6b65",
   "metadata": {},
   "outputs": [],
   "source": [
    "exp = DETRCPPE5Experiment()\n",
    "device = torch.device('cuda' if torch.cuda.is_available() else 'cpu')"
   ]
  },
  {
   "cell_type": "code",
   "execution_count": 4,
   "id": "38ebb9a8",
   "metadata": {},
   "outputs": [],
   "source": [
    "torch.manual_seed(exp.random_seed)\n",
    "np.random.seed(exp.random_seed)\n",
    "random.seed(exp.random_seed)\n",
    "if torch.cuda.is_available():\n",
    "    torch.cuda.manual_seed_all(exp.random_seed)\n",
    "torch.backends.cudnn.deterministic = True\n",
    "torch.backends.cudnn.benchmark = False"
   ]
  },
  {
   "cell_type": "code",
   "execution_count": 5,
   "id": "df8cff54",
   "metadata": {},
   "outputs": [],
   "source": [
    "model = build_detr(\n",
    "    backbone_name= exp.backbone_name,\n",
    "    num_classes= exp.num_classes,\n",
    "    num_queries= exp.num_queries,\n",
    "    d_model=DETRCPPEConfigSanityCheck.d_model,\n",
    "    nhead=DETRCPPEConfigSanityCheck.nhead,\n",
    "    num_decoder_layers=DETRCPPEConfigSanityCheck.num_decoder_layers,\n",
    "    num_encoder_layers=DETRCPPEConfigSanityCheck.num_encoder_layers,\n",
    "    dim_feedforward=DETRCPPEConfigSanityCheck.dim_feedforward,\n",
    "    dropout=DETRCPPEConfigSanityCheck.dropout\n",
    ").to(device)"
   ]
  },
  {
   "cell_type": "code",
   "execution_count": 6,
   "id": "ba7cac8d",
   "metadata": {},
   "outputs": [],
   "source": [
    "loss_fn = DETRLoss()\n",
    "dataset = CPPE5Dataset('../assets/CPPE-5', partition='val')\n",
    "data_loader = DataLoader(\n",
    "    dataset,\n",
    "    batch_size=2,\n",
    "    shuffle=False,\n",
    "    num_workers=2,\n",
    "    collate_fn=collate_fn\n",
    ")"
   ]
  },
  {
   "cell_type": "code",
   "execution_count": 7,
   "id": "496b23bf",
   "metadata": {},
   "outputs": [],
   "source": [
    "data_batch = next(iter(data_loader))\n",
    "images = data_batch['images'].to(device)\n",
    "masks = data_batch['masks'].to(device)\n",
    "targets = data_batch['targets']\n",
    "labels, bboxes = pad_targets(targets, exp.num_queries)"
   ]
  },
  {
   "cell_type": "code",
   "execution_count": 8,
   "id": "6c272dde",
   "metadata": {},
   "outputs": [
    {
     "data": {
      "text/plain": [
       "tensor(255.6964, device='cuda:0', grad_fn=<AddBackward0>)"
      ]
     },
     "execution_count": 8,
     "metadata": {},
     "output_type": "execute_result"
    }
   ],
   "source": [
    "model.train()\n",
    "output = model(images, masks)\n",
    "loss_fn(labels.to(device), output[0], bboxes.to(device), output[1])"
   ]
  }
 ],
 "metadata": {
  "kernelspec": {
   "display_name": "Python 3 (ipykernel)",
   "language": "python",
   "name": "python3"
  },
  "language_info": {
   "codemirror_mode": {
    "name": "ipython",
    "version": 3
   },
   "file_extension": ".py",
   "mimetype": "text/x-python",
   "name": "python",
   "nbconvert_exporter": "python",
   "pygments_lexer": "ipython3",
   "version": "3.10.18"
  }
 },
 "nbformat": 4,
 "nbformat_minor": 5
}
